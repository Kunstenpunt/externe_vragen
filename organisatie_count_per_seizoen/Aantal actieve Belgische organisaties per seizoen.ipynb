{
 "cells": [
  {
   "cell_type": "markdown",
   "metadata": {},
   "source": [
    "# Hoeveel (Belgische) organisaties zijn er actief per seizoen in podiumproducties?\n",
    "\n",
    "Jules vraagt zich af of we kunnen achterhalen hoeveel (unieke) organisaties er actief zijn per seizoen in podiumproducties. We kunnen een tentatief antwoord bieden als we in data.kunsten.be op zoek gaan naar de podiumproducties per seizoen, en dan per productie opzoeken welke organisaties met locatie \"Belgium\" gekoppeld zijn.\n",
    "\n",
    "Eerst halen we onze favoriete modules op om deze vraag mee te beantwoorden:"
   ]
  },
  {
   "cell_type": "code",
   "execution_count": 1,
   "metadata": {
    "collapsed": true
   },
   "outputs": [],
   "source": [
    "from configparser import ConfigParser\n",
    "from pandas import DataFrame\n",
    "import psycopg2\n",
    "import matplotlib.pyplot as plt\n",
    "%matplotlib inline"
   ]
  },
  {
   "cell_type": "markdown",
   "metadata": {},
   "source": [
    "De volgende SQL verzamelt voor ons de meeste informatie. We kijken terug tot 2000. We perken ons dan ook nog in tot organisaties die een actieve rol hebben, namelijk gezelschap, producent en coproducent. En we laten ook de hernemingen weg, zodat \"actief\" de betekenis krijgt van \"een nieuwe productie\"."
   ]
  },
  {
   "cell_type": "code",
   "execution_count": 2,
   "metadata": {
    "collapsed": true
   },
   "outputs": [],
   "source": [
    "sql = \"\"\"\n",
    "SELECT DISTINCT\n",
    "  seasons.start_year,\n",
    "  organisations.name,\n",
    "  functions.name_nl\n",
    "FROM\n",
    "  production.productions,\n",
    "  production.relationships,\n",
    "  production.seasons,\n",
    "  production.organisations,\n",
    "  production.functions,\n",
    "  production.countries,\n",
    "  production.production_types_productions\n",
    "WHERE\n",
    "  productions.id = relationships.production_id AND\n",
    "  relationships.organisation_id = organisations.id AND\n",
    "  productions.rerun_of_id IS NULL AND\n",
    "  relationships.function_id = functions.id AND\n",
    "  seasons.id = productions.season_id AND\n",
    "  organisations.country_id = countries.id AND\n",
    "  seasons.start_year >= 2000 AND\n",
    "  seasons.start_year < 2015 AND\n",
    "  countries.name_en = 'Belgium' AND\n",
    "  functions.name_nl IN ('gezelschap', 'producent', 'coproducent') AND\n",
    "  production_types_productions.production_id = productions.id AND\n",
    "  production_types_productions.production_type_id = 31;\n",
    "\"\"\""
   ]
  },
  {
   "cell_type": "markdown",
   "metadata": {},
   "source": [
    "Dan moeten we nog connecteren met de databank:"
   ]
  },
  {
   "cell_type": "code",
   "execution_count": 3,
   "metadata": {
    "collapsed": true
   },
   "outputs": [],
   "source": [
    "cfg = ConfigParser()\n",
    "cfg.read(\"db.cfg\")\n",
    "knst = psycopg2.connect(host=cfg['db']['host'], port=cfg['db']['port'],\n",
    "                        database=cfg['db']['db'], user=cfg['db']['user'],\n",
    "                        password=cfg['db']['pwd'])\n",
    "knst.set_client_encoding('UTF-8')\n",
    "cur = knst.cursor()"
   ]
  },
  {
   "cell_type": "markdown",
   "metadata": {},
   "source": [
    "En dan met een beetje scripting krijgen we een mooi zicht op de lijst van unieke Belgische organisaties per seizoen:"
   ]
  },
  {
   "cell_type": "code",
   "execution_count": 4,
   "metadata": {
    "collapsed": false
   },
   "outputs": [],
   "source": [
    "cur.execute(sql)\n",
    "unieke_organisaties_per_seizoen = {}\n",
    "for row in cur.fetchall():\n",
    "    seizoen_start_jaar, organisatie_naam, functie = row\n",
    "    if seizoen_start_jaar not in unieke_organisaties_per_seizoen:\n",
    "        unieke_organisaties_per_seizoen[seizoen_start_jaar] = {}\n",
    "    if functie not in unieke_organisaties_per_seizoen[seizoen_start_jaar]:\n",
    "        unieke_organisaties_per_seizoen[seizoen_start_jaar][functie] = set()\n",
    "    unieke_organisaties_per_seizoen[seizoen_start_jaar][functie].add(organisatie_naam)"
   ]
  },
  {
   "cell_type": "markdown",
   "metadata": {},
   "source": [
    "Of we kunnen ook gewoon tellen hoeveel dat er zijn per seizoen:"
   ]
  },
  {
   "cell_type": "code",
   "execution_count": 5,
   "metadata": {
    "collapsed": false
   },
   "outputs": [],
   "source": [
    "counts = []\n",
    "for seizoen in sorted(unieke_organisaties_per_seizoen):\n",
    "    for functie in unieke_organisaties_per_seizoen[seizoen]:\n",
    "        counts.append([seizoen, functie, len(unieke_organisaties_per_seizoen[seizoen][functie])])\n",
    "df = DataFrame(counts, columns=['seizoen', 'functie', 'frequentie'])\n",
    "df.index = df['seizoen']"
   ]
  },
  {
   "cell_type": "code",
   "execution_count": 6,
   "metadata": {
    "collapsed": false
   },
   "outputs": [
    {
     "data": {
      "text/html": [
       "<div>\n",
       "<table border=\"1\" class=\"dataframe\">\n",
       "  <thead>\n",
       "    <tr style=\"text-align: right;\">\n",
       "      <th></th>\n",
       "      <th>seizoen</th>\n",
       "      <th>functie</th>\n",
       "      <th>frequentie</th>\n",
       "    </tr>\n",
       "    <tr>\n",
       "      <th>seizoen</th>\n",
       "      <th></th>\n",
       "      <th></th>\n",
       "      <th></th>\n",
       "    </tr>\n",
       "  </thead>\n",
       "  <tbody>\n",
       "    <tr>\n",
       "      <th>2000</th>\n",
       "      <td>2000</td>\n",
       "      <td>gezelschap</td>\n",
       "      <td>188</td>\n",
       "    </tr>\n",
       "    <tr>\n",
       "      <th>2000</th>\n",
       "      <td>2000</td>\n",
       "      <td>producent</td>\n",
       "      <td>35</td>\n",
       "    </tr>\n",
       "    <tr>\n",
       "      <th>2000</th>\n",
       "      <td>2000</td>\n",
       "      <td>coproducent</td>\n",
       "      <td>71</td>\n",
       "    </tr>\n",
       "    <tr>\n",
       "      <th>2001</th>\n",
       "      <td>2001</td>\n",
       "      <td>gezelschap</td>\n",
       "      <td>161</td>\n",
       "    </tr>\n",
       "    <tr>\n",
       "      <th>2001</th>\n",
       "      <td>2001</td>\n",
       "      <td>producent</td>\n",
       "      <td>40</td>\n",
       "    </tr>\n",
       "  </tbody>\n",
       "</table>\n",
       "</div>"
      ],
      "text/plain": [
       "         seizoen      functie  frequentie\n",
       "seizoen                                  \n",
       "2000        2000   gezelschap         188\n",
       "2000        2000    producent          35\n",
       "2000        2000  coproducent          71\n",
       "2001        2001   gezelschap         161\n",
       "2001        2001    producent          40"
      ]
     },
     "execution_count": 6,
     "metadata": {},
     "output_type": "execute_result"
    }
   ],
   "source": [
    "df.head()"
   ]
  },
  {
   "cell_type": "markdown",
   "metadata": {},
   "source": [
    "Of in het wijde formaat:"
   ]
  },
  {
   "cell_type": "code",
   "execution_count": 7,
   "metadata": {
    "collapsed": false
   },
   "outputs": [
    {
     "data": {
      "text/html": [
       "<div>\n",
       "<table border=\"1\" class=\"dataframe\">\n",
       "  <thead>\n",
       "    <tr style=\"text-align: right;\">\n",
       "      <th>functie</th>\n",
       "      <th>coproducent</th>\n",
       "      <th>gezelschap</th>\n",
       "      <th>producent</th>\n",
       "    </tr>\n",
       "    <tr>\n",
       "      <th>seizoen</th>\n",
       "      <th></th>\n",
       "      <th></th>\n",
       "      <th></th>\n",
       "    </tr>\n",
       "  </thead>\n",
       "  <tbody>\n",
       "    <tr>\n",
       "      <th>2000</th>\n",
       "      <td>71</td>\n",
       "      <td>188</td>\n",
       "      <td>35</td>\n",
       "    </tr>\n",
       "    <tr>\n",
       "      <th>2001</th>\n",
       "      <td>64</td>\n",
       "      <td>161</td>\n",
       "      <td>40</td>\n",
       "    </tr>\n",
       "    <tr>\n",
       "      <th>2002</th>\n",
       "      <td>86</td>\n",
       "      <td>176</td>\n",
       "      <td>49</td>\n",
       "    </tr>\n",
       "    <tr>\n",
       "      <th>2003</th>\n",
       "      <td>77</td>\n",
       "      <td>159</td>\n",
       "      <td>37</td>\n",
       "    </tr>\n",
       "    <tr>\n",
       "      <th>2004</th>\n",
       "      <td>66</td>\n",
       "      <td>147</td>\n",
       "      <td>43</td>\n",
       "    </tr>\n",
       "  </tbody>\n",
       "</table>\n",
       "</div>"
      ],
      "text/plain": [
       "functie  coproducent  gezelschap  producent\n",
       "seizoen                                    \n",
       "2000              71         188         35\n",
       "2001              64         161         40\n",
       "2002              86         176         49\n",
       "2003              77         159         37\n",
       "2004              66         147         43"
      ]
     },
     "execution_count": 7,
     "metadata": {},
     "output_type": "execute_result"
    }
   ],
   "source": [
    "df_wide = df.pivot(\"seizoen\", \"functie\", \"frequentie\")\n",
    "df_wide.head()"
   ]
  },
  {
   "cell_type": "markdown",
   "metadata": {},
   "source": [
    "En dat dan op een grafiekje tonen:"
   ]
  },
  {
   "cell_type": "code",
   "execution_count": 8,
   "metadata": {
    "collapsed": false
   },
   "outputs": [
    {
     "data": {
      "image/png": "[encoded data removed]",
      "text/plain": [
       "<matplotlib.figure.Figure at 0x107705048>"
      ]
     },
     "metadata": {},
     "output_type": "display_data"
    }
   ],
   "source": [
    "fig = df_wide.plot.area(stacked=True, figsize=(15,6))"
   ]
  },
  {
   "cell_type": "markdown",
   "metadata": {},
   "source": [
    "Laten we nu eens kijken hoeveel producties er per seizoen zijn (opnieuw de hernemingen buiten beschouwing latend):"
   ]
  },
  {
   "cell_type": "code",
   "execution_count": 33,
   "metadata": {
    "collapsed": true
   },
   "outputs": [],
   "source": [
    "sql = \"\"\"\n",
    "SELECT DISTINCT\n",
    "  seasons.start_year,\n",
    "  productions.id\n",
    "FROM\n",
    "  production.productions,\n",
    "  production.relationships,\n",
    "  production.seasons,\n",
    "  production.production_types_productions\n",
    "WHERE\n",
    "  productions.id = relationships.production_id AND\n",
    "  productions.rerun_of_id IS NULL AND\n",
    "  seasons.id = productions.season_id AND\n",
    "  seasons.start_year >= 2000 AND\n",
    "  seasons.start_year < 2015 AND\n",
    "  production_types_productions.production_id = productions.id AND\n",
    "  production_types_productions.production_type_id = 31;\n",
    "\"\"\""
   ]
  },
  {
   "cell_type": "code",
   "execution_count": 34,
   "metadata": {
    "collapsed": true
   },
   "outputs": [],
   "source": [
    "cfg = ConfigParser()\n",
    "cfg.read(\"db.cfg\")\n",
    "knst = psycopg2.connect(host=cfg['db']['host'], port=cfg['db']['port'],\n",
    "                        database=cfg['db']['db'], user=cfg['db']['user'],\n",
    "                        password=cfg['db']['pwd'])\n",
    "knst.set_client_encoding('UTF-8')\n",
    "cur = knst.cursor()"
   ]
  },
  {
   "cell_type": "code",
   "execution_count": 35,
   "metadata": {
    "collapsed": false
   },
   "outputs": [],
   "source": [
    "cur.execute(sql)\n",
    "aantal_producties_per_seizoen = {}\n",
    "for row in cur.fetchall():\n",
    "    seizoen_start_jaar, productie_id = row\n",
    "    if seizoen_start_jaar not in aantal_producties_per_seizoen:\n",
    "        aantal_producties_per_seizoen[seizoen_start_jaar] = set()\n",
    "    aantal_producties_per_seizoen[seizoen_start_jaar].add(productie_id)"
   ]
  },
  {
   "cell_type": "code",
   "execution_count": 36,
   "metadata": {
    "collapsed": false
   },
   "outputs": [
    {
     "data": {
      "text/html": [
       "<div>\n",
       "<table border=\"1\" class=\"dataframe\">\n",
       "  <thead>\n",
       "    <tr style=\"text-align: right;\">\n",
       "      <th></th>\n",
       "      <th>aantal producties</th>\n",
       "    </tr>\n",
       "    <tr>\n",
       "      <th>seizoen</th>\n",
       "      <th></th>\n",
       "    </tr>\n",
       "  </thead>\n",
       "  <tbody>\n",
       "    <tr>\n",
       "      <th>2000</th>\n",
       "      <td>468</td>\n",
       "    </tr>\n",
       "    <tr>\n",
       "      <th>2001</th>\n",
       "      <td>473</td>\n",
       "    </tr>\n",
       "    <tr>\n",
       "      <th>2002</th>\n",
       "      <td>490</td>\n",
       "    </tr>\n",
       "    <tr>\n",
       "      <th>2003</th>\n",
       "      <td>468</td>\n",
       "    </tr>\n",
       "    <tr>\n",
       "      <th>2004</th>\n",
       "      <td>417</td>\n",
       "    </tr>\n",
       "  </tbody>\n",
       "</table>\n",
       "</div>"
      ],
      "text/plain": [
       "         aantal producties\n",
       "seizoen                   \n",
       "2000                   468\n",
       "2001                   473\n",
       "2002                   490\n",
       "2003                   468\n",
       "2004                   417"
      ]
     },
     "execution_count": 36,
     "metadata": {},
     "output_type": "execute_result"
    }
   ],
   "source": [
    "counts = []\n",
    "for seizoen in aantal_producties_per_seizoen:\n",
    "    counts.append([seizoen, len(aantal_producties_per_seizoen[seizoen])])\n",
    "df = DataFrame(counts, columns=[\"seizoen\", \"aantal producties\"])\n",
    "df.index = df[\"seizoen\"]\n",
    "df.drop(\"seizoen\", axis=1, inplace=True)\n",
    "df.head()"
   ]
  },
  {
   "cell_type": "code",
   "execution_count": 37,
   "metadata": {
    "collapsed": false
   },
   "outputs": [
    {
     "data": {
      "text/plain": [
       "(0, 600)"
      ]
     },
     "execution_count": 37,
     "metadata": {},
     "output_type": "execute_result"
    },
    {
     "data": {
      "image/png": "[encoded data removed]",
      "text/plain": [
       "<matplotlib.figure.Figure at 0x108be3cf8>"
      ]
     },
     "metadata": {},
     "output_type": "display_data"
    }
   ],
   "source": [
    "fig = df.plot()\n",
    "fig.set_ylim([0, 600])"
   ]
  }
 ],
 "metadata": {
  "kernelspec": {
   "display_name": "Python 3",
   "language": "python",
   "name": "python3"
  },
  "language_info": {
   "codemirror_mode": {
    "name": "ipython",
    "version": 3
   },
   "file_extension": ".py",
   "mimetype": "text/x-python",
   "name": "python",
   "nbconvert_exporter": "python",
   "pygments_lexer": "ipython3",
   "version": "3.5.2"
  }
 },
 "nbformat": 4,
 "nbformat_minor": 1
}
